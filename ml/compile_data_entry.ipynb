{
 "cells": [
  {
   "cell_type": "code",
   "execution_count": null,
   "metadata": {},
   "outputs": [],
   "source": [
    "from keras import metrics\n",
    "from model import neural_voice_judgment_model\n",
    "\n",
    "model = neural_voice_judgment_model()\n",
    "model.build((None,128,128,1))\n",
    "model.summary()\n",
    "model.compile(optimizer=\"adam\",loss=\"mean_squared_error\",metrics=metrics.TopKCategoricalAccuracy(k=5))"
   ]
  },
  {
   "cell_type": "code",
   "execution_count": null,
   "metadata": {},
   "outputs": [],
   "source": [
    "import numpy as np\n",
    "from sample_yomikomi import sample_all_data\n",
    "from keras.callbacks import EarlyStopping\n",
    "import idx2numpy\n",
    "import tensorflow as tf\n",
    "from os.path import join\n",
    "from twenty_times_more_data import twenty_times_more_data\n",
    "\n",
    "input_output_label_data = idx2numpy.convert_from_file(join(\"..\",\"dataset\",\"train_label.idx\"))\n",
    "input_output_image_data = idx2numpy.convert_from_file(join(\"..\",\"dataset\",\"train_image.idx\"))\n",
    "\n",
    "label_dataset = tf.data.Dataset.from_tensor_slices(input_output_label_data)\n",
    "image_dataset = tf.data.Dataset.from_tensor_slices(input_output_image_data)\n",
    "lump_dataset = tf.data.Dataset.zip((image_dataset,label_dataset))\n",
    "callback = EarlyStopping(patience=10)\n",
    "flat_map_dataset = lump_dataset.flat_map(twenty_times_more_data)\n",
    "fit_data = model.fit(flat_map_dataset,epochs=500,steps_per_epoch=45,callbacks=[callback],validation_data=,validation_steps=1)"
   ]
  },
  {
   "cell_type": "code",
   "execution_count": null,
   "metadata": {},
   "outputs": [],
   "source": [
    "from keras.models import Model\n",
    "\n",
    "test_label_data = idx2numpy.convert_from_file(join(\"..\",\"dataset\",\"test_label.idx\"))\n",
    "test_image_data = idx2numpy.convert_from_file(join(\"..\",\"dataset\",\"test_image.idx\"))"
   ]
  },
  {
   "cell_type": "code",
   "execution_count": null,
   "metadata": {},
   "outputs": [],
   "source": [
    "model.evaluate(x=test_image_data,y=test_label_data)"
   ]
  },
  {
   "cell_type": "code",
   "execution_count": null,
   "metadata": {},
   "outputs": [],
   "source": [
    "model.save(join(\"trained_model\",\"third.tf\"))"
   ]
  }
 ],
 "metadata": {
  "kernelspec": {
   "display_name": "Python 3.9.13 ('env': venv)",
   "language": "python",
   "name": "python3"
  },
  "language_info": {
   "codemirror_mode": {
    "name": "ipython",
    "version": 3
   },
   "file_extension": ".py",
   "mimetype": "text/x-python",
   "name": "python",
   "nbconvert_exporter": "python",
   "pygments_lexer": "ipython3",
   "version": "3.9.13"
  },
  "orig_nbformat": 4,
  "vscode": {
   "interpreter": {
    "hash": "971a761953a7663b5da1095a7f59a039d6dc8b44ef25d8b62f53ff15b5106e5a"
   }
  }
 },
 "nbformat": 4,
 "nbformat_minor": 2
}
