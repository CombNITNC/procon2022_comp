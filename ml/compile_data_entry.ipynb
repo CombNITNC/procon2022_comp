{
 "cells": [
  {
   "cell_type": "code",
   "execution_count": 3,
   "metadata": {},
   "outputs": [
    {
     "name": "stdout",
     "output_type": "stream",
     "text": [
      "Model: \"sequential_2\"\n",
      "_________________________________________________________________\n",
      " Layer (type)                Output Shape              Param #   \n",
      "=================================================================\n",
      " sequential_3 (Sequential)   (None, 128, 128, 1)       0         \n",
      "                                                                 \n",
      " conv2d_4 (Conv2D)           (None, 124, 124, 8)       208       \n",
      "                                                                 \n",
      " max_pooling2d_4 (MaxPooling  (None, 62, 62, 8)        0         \n",
      " 2D)                                                             \n",
      "                                                                 \n",
      " conv2d_5 (Conv2D)           (None, 58, 58, 16)        3216      \n",
      "                                                                 \n",
      " max_pooling2d_5 (MaxPooling  (None, 29, 29, 16)       0         \n",
      " 2D)                                                             \n",
      "                                                                 \n",
      " conv2d_6 (Conv2D)           (None, 25, 25, 100)       40100     \n",
      "                                                                 \n",
      " max_pooling2d_6 (MaxPooling  (None, 12, 12, 100)      0         \n",
      " 2D)                                                             \n",
      "                                                                 \n",
      " conv2d_7 (Conv2D)           (None, 8, 8, 200)         500200    \n",
      "                                                                 \n",
      " max_pooling2d_7 (MaxPooling  (None, 4, 4, 200)        0         \n",
      " 2D)                                                             \n",
      "                                                                 \n",
      " flatten_1 (Flatten)         (None, 3200)              0         \n",
      "                                                                 \n",
      " dense_4 (Dense)             (None, 17424)             55774224  \n",
      "                                                                 \n",
      " dense_5 (Dense)             (None, 1024)              17843200  \n",
      "                                                                 \n",
      " dense_6 (Dense)             (None, 500)               512500    \n",
      "                                                                 \n",
      " dense_7 (Dense)             (None, 44)                22044     \n",
      "                                                                 \n",
      "=================================================================\n",
      "Total params: 74,695,692\n",
      "Trainable params: 74,695,692\n",
      "Non-trainable params: 0\n",
      "_________________________________________________________________\n"
     ]
    }
   ],
   "source": [
    "from keras import metrics\n",
    "from model import neural_voice_judgment_model\n",
    "\n",
    "model = neural_voice_judgment_model()\n",
    "model.build((None, 128, 128, 1))\n",
    "model.summary()\n",
    "model.compile(optimizer='adam',loss=\"mean_squared_error\", metrics=metrics.TopKCategoricalAccuracy(k = 5))\n"
   ]
  },
  {
   "cell_type": "code",
   "execution_count": 4,
   "metadata": {},
   "outputs": [
    {
     "name": "stdout",
     "output_type": "stream",
     "text": [
      "Epoch 1/500\n",
      "157/157 [==============================] - 100s 627ms/step - loss: 0.0929 - top_k_categorical_accuracy: 0.9586\n",
      "Epoch 2/500\n",
      "157/157 [==============================] - 102s 648ms/step - loss: 0.0912 - top_k_categorical_accuracy: 1.0000\n",
      "Epoch 3/500\n",
      "157/157 [==============================] - 92s 586ms/step - loss: 0.0912 - top_k_categorical_accuracy: 1.0000\n",
      "Epoch 4/500\n",
      "157/157 [==============================] - 99s 631ms/step - loss: 0.0912 - top_k_categorical_accuracy: 1.0000\n",
      "Epoch 5/500\n",
      "157/157 [==============================] - 98s 625ms/step - loss: 0.0912 - top_k_categorical_accuracy: 1.0000\n",
      "Epoch 6/500\n",
      "157/157 [==============================] - 97s 616ms/step - loss: 0.0912 - top_k_categorical_accuracy: 1.0000\n",
      "Epoch 7/500\n",
      "157/157 [==============================] - 111s 705ms/step - loss: 0.0912 - top_k_categorical_accuracy: 1.0000\n",
      "Epoch 8/500\n",
      "157/157 [==============================] - 104s 664ms/step - loss: 0.0912 - top_k_categorical_accuracy: 1.0000\n",
      "Epoch 9/500\n",
      "157/157 [==============================] - 101s 644ms/step - loss: 0.0912 - top_k_categorical_accuracy: 1.0000\n",
      "Epoch 10/500\n",
      "157/157 [==============================] - 102s 650ms/step - loss: 0.0912 - top_k_categorical_accuracy: 1.0000\n",
      "Epoch 11/500\n",
      "157/157 [==============================] - 101s 641ms/step - loss: 0.0912 - top_k_categorical_accuracy: 1.0000\n",
      "Epoch 12/500\n",
      "157/157 [==============================] - 107s 679ms/step - loss: 0.0912 - top_k_categorical_accuracy: 1.0000\n",
      "Epoch 13/500\n",
      "157/157 [==============================] - 118s 751ms/step - loss: 0.0912 - top_k_categorical_accuracy: 1.0000\n",
      "Epoch 14/500\n",
      "157/157 [==============================] - 122s 780ms/step - loss: 0.0912 - top_k_categorical_accuracy: 1.0000\n",
      "Epoch 15/500\n",
      "157/157 [==============================] - 121s 769ms/step - loss: 0.0912 - top_k_categorical_accuracy: 1.0000\n",
      "Epoch 16/500\n",
      "157/157 [==============================] - 111s 707ms/step - loss: 0.0912 - top_k_categorical_accuracy: 1.0000\n",
      "Epoch 17/500\n",
      "157/157 [==============================] - 112s 715ms/step - loss: 0.0912 - top_k_categorical_accuracy: 1.0000\n",
      "Epoch 18/500\n",
      "157/157 [==============================] - 95s 607ms/step - loss: 0.0912 - top_k_categorical_accuracy: 1.0000\n",
      "Epoch 19/500\n",
      "157/157 [==============================] - 99s 627ms/step - loss: 0.0912 - top_k_categorical_accuracy: 1.0000\n",
      "Epoch 20/500\n",
      "157/157 [==============================] - 97s 621ms/step - loss: 0.0912 - top_k_categorical_accuracy: 1.0000\n",
      "Epoch 21/500\n",
      "157/157 [==============================] - 97s 617ms/step - loss: 0.0912 - top_k_categorical_accuracy: 1.0000\n"
     ]
    }
   ],
   "source": [
    "import numpy as np\n",
    "from sample_yomikomi import sample_all_data\n",
    "from keras.callbacks import EarlyStopping\n",
    "import idx2numpy\n",
    "from os.path import join\n",
    "\n",
    "input_output_label_data = idx2numpy.convert_from_file(join(\"..\",\"dataset\",\"train_label.idx\"))\n",
    "input_output_image_data = idx2numpy.convert_from_file(join(\"..\",\"dataset\",\"train_image.idx\"))\n",
    "callback = EarlyStopping(monitor=\"loss\",patience=10)\n",
    "fit_data = model.fit(x=input_output_image_data,y=input_output_label_data,epochs=500,callbacks=[callback])"
   ]
  },
  {
   "cell_type": "code",
   "execution_count": 5,
   "metadata": {},
   "outputs": [
    {
     "data": {
      "text/plain": [
       "[<matplotlib.lines.Line2D at 0x21a62714520>]"
      ]
     },
     "execution_count": 5,
     "metadata": {},
     "output_type": "execute_result"
    },
    {
     "data": {
      "image/png": "[encoded data removed]",
      "text/plain": [
       "<Figure size 432x288 with 1 Axes>"
      ]
     },
     "metadata": {
      "needs_background": "light"
     },
     "output_type": "display_data"
    }
   ],
   "source": [
    "import matplotlib.pyplot as plt\n",
    "\n",
    "y = fit_data.history[\"top_k_categorical_accuracy\"]\n",
    "x = list(range(len(y)))\n",
    "plt.plot(x,y)"
   ]
  },
  {
   "cell_type": "code",
   "execution_count": 6,
   "metadata": {},
   "outputs": [],
   "source": [
    "from keras.models import Model\n",
    "\n",
    "test_label_data = idx2numpy.convert_from_file(join(\"..\",\"dataset\",\"test_label.idx\"))\n",
    "test_image_data = idx2numpy.convert_from_file(join(\"..\",\"dataset\",\"test_image.idx\"))"
   ]
  },
  {
   "cell_type": "code",
   "execution_count": 7,
   "metadata": {},
   "outputs": [
    {
     "name": "stdout",
     "output_type": "stream",
     "text": [
      "32/32 [==============================] - 3s 85ms/step - loss: 0.0900 - top_k_categorical_accuracy: 1.0000\n"
     ]
    },
    {
     "data": {
      "text/plain": [
       "[0.0900227352976799, 1.0]"
      ]
     },
     "execution_count": 7,
     "metadata": {},
     "output_type": "execute_result"
    }
   ],
   "source": [
    "model.evaluate(x=test_image_data,y=test_label_data)"
   ]
  },
  {
   "cell_type": "code",
   "execution_count": 9,
   "metadata": {},
   "outputs": [
    {
     "name": "stdout",
     "output_type": "stream",
     "text": [
      "INFO:tensorflow:Assets written to: trained_model\\first.tf\\assets\n"
     ]
    }
   ],
   "source": [
    "model.save(join(\"trained_model\",\"first.tf\"))"
   ]
  }
 ],
 "metadata": {
  "kernelspec": {
   "display_name": "Python 3.9.13 ('env': venv)",
   "language": "python",
   "name": "python3"
  },
  "language_info": {
   "codemirror_mode": {
    "name": "ipython",
    "version": 3
   },
   "file_extension": ".py",
   "mimetype": "text/x-python",
   "name": "python",
   "nbconvert_exporter": "python",
   "pygments_lexer": "ipython3",
   "version": "3.9.13"
  },
  "orig_nbformat": 4,
  "vscode": {
   "interpreter": {
    "hash": "971a761953a7663b5da1095a7f59a039d6dc8b44ef25d8b62f53ff15b5106e5a"
   }
  }
 },
 "nbformat": 4,
 "nbformat_minor": 2
}
