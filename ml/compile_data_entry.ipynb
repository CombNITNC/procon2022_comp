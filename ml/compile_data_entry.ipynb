{
 "cells": [
  {
   "cell_type": "code",
   "execution_count": 1,
   "metadata": {},
   "outputs": [
    {
     "name": "stdout",
     "output_type": "stream",
     "text": [
      "Model: \"sequential\"\n",
      "_________________________________________________________________\n",
      " Layer (type)                Output Shape              Param #   \n",
      "=================================================================\n",
      " conv2d (Conv2D)             (None, 124, 124, 8)       208       \n",
      "                                                                 \n",
      " max_pooling2d (MaxPooling2D  (None, 62, 62, 8)        0         \n",
      " )                                                               \n",
      "                                                                 \n",
      " conv2d_1 (Conv2D)           (None, 58, 58, 16)        3216      \n",
      "                                                                 \n",
      " max_pooling2d_1 (MaxPooling  (None, 29, 29, 16)       0         \n",
      " 2D)                                                             \n",
      "                                                                 \n",
      " conv2d_2 (Conv2D)           (None, 25, 25, 100)       40100     \n",
      "                                                                 \n",
      " max_pooling2d_2 (MaxPooling  (None, 12, 12, 100)      0         \n",
      " 2D)                                                             \n",
      "                                                                 \n",
      " conv2d_3 (Conv2D)           (None, 8, 8, 200)         500200    \n",
      "                                                                 \n",
      " max_pooling2d_3 (MaxPooling  (None, 4, 4, 200)        0         \n",
      " 2D)                                                             \n",
      "                                                                 \n",
      " flatten (Flatten)           (None, 3200)              0         \n",
      "                                                                 \n",
      " dense (Dense)               (None, 17424)             55774224  \n",
      "                                                                 \n",
      " dense_1 (Dense)             (None, 1024)              17843200  \n",
      "                                                                 \n",
      " dense_2 (Dense)             (None, 500)               512500    \n",
      "                                                                 \n",
      " dense_3 (Dense)             (None, 44)                22044     \n",
      "                                                                 \n",
      "=================================================================\n",
      "Total params: 74,695,692\n",
      "Trainable params: 74,695,692\n",
      "Non-trainable params: 0\n",
      "_________________________________________________________________\n"
     ]
    }
   ],
   "source": [
    "from keras import losses\n",
    "from model import neural_voice_judgment_model\n",
    "\n",
    "model = neural_voice_judgment_model()\n",
    "model.build((None, 128, 128, 1))\n",
    "model.summary()\n",
    "model.compile(optimizer='adam',loss=losses.CategoricalCrossentropy(), metrics=['categorical_accuracy'])\n"
   ]
  },
  {
   "cell_type": "code",
   "execution_count": 2,
   "metadata": {},
   "outputs": [
    {
     "ename": "AttributeError",
     "evalue": "'dict' object has no attribute 'speech'",
     "output_type": "error",
     "traceback": [
      "\u001b[1;31m---------------------------------------------------------------------------\u001b[0m",
      "\u001b[1;31mAttributeError\u001b[0m                            Traceback (most recent call last)",
      "\u001b[1;32mセル2 を c:\\Users\\hayat\\OneDrive\\デスクトップ\\procon2022_comp\\ml\\compile_data_entry.ipynb\u001b[0m in \u001b[0;36m<cell line: 5>\u001b[1;34m()\u001b[0m\n\u001b[0;32m      <a href='vscode-notebook-cell:/c%3A/Users/hayat/OneDrive/%E3%83%87%E3%82%B9%E3%82%AF%E3%83%88%E3%83%83%E3%83%97/procon2022_comp/ml/compile_data_entry.ipynb#W1sZmlsZQ%3D%3D?line=1'>2</a>\u001b[0m \u001b[39mfrom\u001b[39;00m \u001b[39msample_yomikomi\u001b[39;00m \u001b[39mimport\u001b[39;00m sample_all_data\n\u001b[0;32m      <a href='vscode-notebook-cell:/c%3A/Users/hayat/OneDrive/%E3%83%87%E3%82%B9%E3%82%AF%E3%83%88%E3%83%83%E3%83%97/procon2022_comp/ml/compile_data_entry.ipynb#W1sZmlsZQ%3D%3D?line=2'>3</a>\u001b[0m \u001b[39mfrom\u001b[39;00m \u001b[39mkeras\u001b[39;00m\u001b[39m.\u001b[39;00m\u001b[39mcallbacks\u001b[39;00m \u001b[39mimport\u001b[39;00m EarlyStopping\n\u001b[1;32m----> <a href='vscode-notebook-cell:/c%3A/Users/hayat/OneDrive/%E3%83%87%E3%82%B9%E3%82%AF%E3%83%88%E3%83%83%E3%83%97/procon2022_comp/ml/compile_data_entry.ipynb#W1sZmlsZQ%3D%3D?line=4'>5</a>\u001b[0m input_output_data \u001b[39m=\u001b[39m sample_all_data()\n\u001b[0;32m      <a href='vscode-notebook-cell:/c%3A/Users/hayat/OneDrive/%E3%83%87%E3%82%B9%E3%82%AF%E3%83%88%E3%83%83%E3%83%97/procon2022_comp/ml/compile_data_entry.ipynb#W1sZmlsZQ%3D%3D?line=5'>6</a>\u001b[0m data_deformation \u001b[39m=\u001b[39m np\u001b[39m.\u001b[39mtranspose(input_output_data)\n\u001b[0;32m      <a href='vscode-notebook-cell:/c%3A/Users/hayat/OneDrive/%E3%83%87%E3%82%B9%E3%82%AF%E3%83%88%E3%83%83%E3%83%97/procon2022_comp/ml/compile_data_entry.ipynb#W1sZmlsZQ%3D%3D?line=6'>7</a>\u001b[0m callback \u001b[39m=\u001b[39m EarlyStopping(patience\u001b[39m=\u001b[39m\u001b[39m10\u001b[39m)\n",
      "File \u001b[1;32mc:\\Users\\hayat\\OneDrive\\デスクトップ\\procon2022_comp\\ml\\sample_yomikomi.py:50\u001b[0m, in \u001b[0;36msample_all_data\u001b[1;34m()\u001b[0m\n\u001b[0;32m     48\u001b[0m \u001b[39mfor\u001b[39;00m sample_dir \u001b[39min\u001b[39;00m os\u001b[39m.\u001b[39mlistdir(join(\u001b[39m\"\u001b[39m\u001b[39m..\u001b[39m\u001b[39m\"\u001b[39m, \u001b[39m\"\u001b[39m\u001b[39msample\u001b[39m\u001b[39m\"\u001b[39m)):\n\u001b[0;32m     49\u001b[0m     \u001b[39mif\u001b[39;00m os\u001b[39m.\u001b[39mpath\u001b[39m.\u001b[39misdir(join(\u001b[39m\"\u001b[39m\u001b[39m..\u001b[39m\u001b[39m\"\u001b[39m, \u001b[39m\"\u001b[39m\u001b[39msample\u001b[39m\u001b[39m\"\u001b[39m, sample_dir)):\n\u001b[1;32m---> 50\u001b[0m         sample_pair_list \u001b[39m=\u001b[39m sample_data(sample_dir)\n\u001b[0;32m     52\u001b[0m         sample_pair_data \u001b[39m+\u001b[39m\u001b[39m=\u001b[39m sample_pair_list\n\u001b[0;32m     54\u001b[0m \u001b[39mreturn\u001b[39;00m sample_pair_data\n",
      "File \u001b[1;32mc:\\Users\\hayat\\OneDrive\\デスクトップ\\procon2022_comp\\ml\\sample_yomikomi.py:18\u001b[0m, in \u001b[0;36msample_data\u001b[1;34m(question_sub_dir)\u001b[0m\n\u001b[0;32m     16\u001b[0m \u001b[39mwith\u001b[39;00m \u001b[39mopen\u001b[39m(join(\u001b[39m\"\u001b[39m\u001b[39m..\u001b[39m\u001b[39m\"\u001b[39m, \u001b[39m\"\u001b[39m\u001b[39msample\u001b[39m\u001b[39m\"\u001b[39m, question_sub_dir, \u001b[39m\"\u001b[39m\u001b[39minformation.txt\u001b[39m\u001b[39m\"\u001b[39m), encoding\u001b[39m=\u001b[39m\u001b[39m\"\u001b[39m\u001b[39mutf-8\u001b[39m\u001b[39m\"\u001b[39m) \u001b[39mas\u001b[39;00m sample_file:\n\u001b[0;32m     17\u001b[0m     parsed \u001b[39m=\u001b[39m yaml\u001b[39m.\u001b[39mload(sample_file, Loader\u001b[39m=\u001b[39mLoader)\n\u001b[1;32m---> 18\u001b[0m     seikai_parsed_split \u001b[39m=\u001b[39m parsed\u001b[39m.\u001b[39;49mspeech\u001b[39m.\u001b[39msplit(\u001b[39m\"\u001b[39m\u001b[39m,\u001b[39m\u001b[39m\"\u001b[39m)\n\u001b[0;32m     19\u001b[0m     nsplit \u001b[39m=\u001b[39m parsed\u001b[39m.\u001b[39mnsplit\n\u001b[0;32m     21\u001b[0m bunkatu_list \u001b[39m=\u001b[39m []\n",
      "\u001b[1;31mAttributeError\u001b[0m: 'dict' object has no attribute 'speech'"
     ]
    }
   ],
   "source": [
    "import numpy as np\n",
    "from sample_yomikomi import sample_all_data\n",
    "from keras.callbacks import EarlyStopping\n",
    "\n",
    "input_output_data = sample_all_data()\n",
    "data_deformation = np.transpose(input_output_data)\n",
    "callback = EarlyStopping(patience=10)\n",
    "sample_fit_data = model.fit(x=data_deformation[0],y=data_deformation[1],epochs=500)\n"
   ]
  }
 ],
 "metadata": {
  "kernelspec": {
   "display_name": "Python 3.9.13 ('env': venv)",
   "language": "python",
   "name": "python3"
  },
  "language_info": {
   "codemirror_mode": {
    "name": "ipython",
    "version": 3
   },
   "file_extension": ".py",
   "mimetype": "text/x-python",
   "name": "python",
   "nbconvert_exporter": "python",
   "pygments_lexer": "ipython3",
   "version": "3.9.13"
  },
  "orig_nbformat": 4,
  "vscode": {
   "interpreter": {
    "hash": "971a761953a7663b5da1095a7f59a039d6dc8b44ef25d8b62f53ff15b5106e5a"
   }
  }
 },
 "nbformat": 4,
 "nbformat_minor": 2
}
