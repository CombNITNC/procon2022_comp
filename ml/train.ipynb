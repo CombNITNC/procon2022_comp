{
 "cells": [
  {
   "cell_type": "code",
   "execution_count": 1,
   "metadata": {},
   "outputs": [],
   "source": [
    "from keras import metrics\n",
    "from model import neural_voice_judgment_model\n",
    "import idx2numpy\n",
    "from os.path import join\n",
    "import numpy as np\n",
    "from sample_yomikomi import sample_all_data\n",
    "from keras.callbacks import EarlyStopping\n",
    "import tensorflow as tf\n",
    "from twenty_times_more_data import twenty_times_more_data\n",
    "import matplotlib.pyplot as plt\n",
    "import numpy as np\n",
    "from keras.models import Model"
   ]
  },
  {
   "cell_type": "code",
   "execution_count": 2,
   "metadata": {},
   "outputs": [],
   "source": [
    "test_label_data = idx2numpy.convert_from_file(join(\"..\",\"dataset\",\"test_label.idx\"))\n",
    "test_image_data = idx2numpy.convert_from_file(join(\"..\",\"dataset\",\"test_image.idx\"))\n",
    "input_output_train_label_data = idx2numpy.convert_from_file(join(\"..\",\"dataset\",\"train_label.idx\"))\n",
    "input_output_train_image_data = idx2numpy.convert_from_file(join(\"..\",\"dataset\",\"train_image.idx\"))\n",
    "input_output_validation_label_data = idx2numpy.convert_from_file(join(\"..\",\"dataset\",\"validation_label.idx\"))\n",
    "input_output_validation_image_data = idx2numpy.convert_from_file(join(\"..\",\"dataset\",\"validation_image.idx\"))"
   ]
  },
  {
   "cell_type": "code",
   "execution_count": 3,
   "metadata": {},
   "outputs": [
    {
     "name": "stdout",
     "output_type": "stream",
     "text": [
      "Metal device set to: Apple M1 Pro\n",
      "\n",
      "systemMemory: 16.00 GB\n",
      "maxCacheSize: 5.33 GB\n",
      "\n",
      "Model: \"sequential\"\n",
      "_________________________________________________________________\n",
      " Layer (type)                Output Shape              Param #   \n",
      "=================================================================\n",
      " conv2d (Conv2D)             (None, 124, 124, 8)       208       \n",
      "                                                                 \n",
      " max_pooling2d (MaxPooling2D  (None, 62, 62, 8)        0         \n",
      " )                                                               \n",
      "                                                                 \n",
      " conv2d_1 (Conv2D)           (None, 58, 58, 16)        3216      \n",
      "                                                                 \n",
      " max_pooling2d_1 (MaxPooling  (None, 29, 29, 16)       0         \n",
      " 2D)                                                             \n",
      "                                                                 \n",
      " conv2d_2 (Conv2D)           (None, 25, 25, 100)       40100     \n",
      "                                                                 \n",
      " max_pooling2d_2 (MaxPooling  (None, 12, 12, 100)      0         \n",
      " 2D)                                                             \n",
      "                                                                 \n",
      " conv2d_3 (Conv2D)           (None, 8, 8, 200)         500200    \n",
      "                                                                 \n",
      " max_pooling2d_3 (MaxPooling  (None, 4, 4, 200)        0         \n",
      " 2D)                                                             \n",
      "                                                                 \n",
      " flatten (Flatten)           (None, 3200)              0         \n",
      "                                                                 \n",
      " dense (Dense)               (None, 17424)             55774224  \n",
      "                                                                 \n",
      " dense_1 (Dense)             (None, 1024)              17843200  \n",
      "                                                                 \n",
      " batch_normalization (BatchN  (None, 1024)             4096      \n",
      " ormalization)                                                   \n",
      "                                                                 \n",
      " dense_2 (Dense)             (None, 500)               512500    \n",
      "                                                                 \n",
      " dense_3 (Dense)             (None, 44)                22044     \n",
      "                                                                 \n",
      "=================================================================\n",
      "Total params: 74,699,788\n",
      "Trainable params: 74,697,740\n",
      "Non-trainable params: 2,048\n",
      "_________________________________________________________________\n"
     ]
    },
    {
     "name": "stderr",
     "output_type": "stream",
     "text": [
      "2022-10-12 10:11:35.375656: I tensorflow/core/common_runtime/pluggable_device/pluggable_device_factory.cc:305] Could not identify NUMA node of platform GPU ID 0, defaulting to 0. Your kernel may not have been built with NUMA support.\n",
      "2022-10-12 10:11:35.375815: I tensorflow/core/common_runtime/pluggable_device/pluggable_device_factory.cc:271] Created TensorFlow device (/job:localhost/replica:0/task:0/device:GPU:0 with 0 MB memory) -> physical PluggableDevice (device: 0, name: METAL, pci bus id: <undefined>)\n"
     ]
    }
   ],
   "source": [
    "model = neural_voice_judgment_model()\n",
    "model.build((None,128,128,1))\n",
    "model.summary()"
   ]
  },
  {
   "cell_type": "code",
   "execution_count": 4,
   "metadata": {},
   "outputs": [],
   "source": [
    "model.compile(\n",
    "    optimizer=\"adam\",\n",
    "    loss=\"binary_crossentropy\",\n",
    "    metrics=[\n",
    "        \"binary_accuracy\",\n",
    "    ],\n",
    ")"
   ]
  },
  {
   "cell_type": "code",
   "execution_count": 5,
   "metadata": {},
   "outputs": [],
   "source": [
    "train_label_dataset = tf.data.Dataset.from_tensor_slices(input_output_train_label_data)\n",
    "train_image_dataset = tf.data.Dataset.from_tensor_slices(input_output_train_image_data)\n",
    "train_lump_dataset = tf.data.Dataset.zip((train_image_dataset,train_label_dataset))\n",
    "callback = EarlyStopping(patience=10)\n",
    "flat_map_dataset = train_lump_dataset.flat_map(twenty_times_more_data)"
   ]
  },
  {
   "cell_type": "code",
   "execution_count": 7,
   "metadata": {},
   "outputs": [
    {
     "name": "stdout",
     "output_type": "stream",
     "text": [
      "Epoch 1/10\n",
      "3125/3125 [==============================] - 100s 32ms/step - loss: 1.4074 - binary_accuracy: 0.9088 - val_loss: 0.8894 - val_binary_accuracy: 0.9084\n",
      "Epoch 2/10\n",
      "3125/3125 [==============================] - 100s 32ms/step - loss: 1.4343 - binary_accuracy: 0.9070 - val_loss: 0.8880 - val_binary_accuracy: 0.9088\n",
      "Epoch 3/10\n",
      "3125/3125 [==============================] - 100s 32ms/step - loss: 1.3905 - binary_accuracy: 0.9099 - val_loss: 0.8881 - val_binary_accuracy: 0.9085\n",
      "Epoch 4/10\n",
      "3125/3125 [==============================] - 100s 32ms/step - loss: 1.4623 - binary_accuracy: 0.9052 - val_loss: 0.8821 - val_binary_accuracy: 0.9087\n",
      "Epoch 5/10\n",
      "3125/3125 [==============================] - 100s 32ms/step - loss: 1.4118 - binary_accuracy: 0.9085 - val_loss: 0.8703 - val_binary_accuracy: 0.9084\n",
      "Epoch 6/10\n",
      "3125/3125 [==============================] - 101s 32ms/step - loss: 1.4051 - binary_accuracy: 0.9089 - val_loss: 0.8913 - val_binary_accuracy: 0.9085\n",
      "Epoch 7/10\n",
      "3125/3125 [==============================] - 100s 32ms/step - loss: 1.3849 - binary_accuracy: 0.9102 - val_loss: 0.8957 - val_binary_accuracy: 0.9085\n",
      "Epoch 8/10\n",
      "3125/3125 [==============================] - 100s 32ms/step - loss: 1.3872 - binary_accuracy: 0.9101 - val_loss: 0.8786 - val_binary_accuracy: 0.9084\n",
      "Epoch 9/10\n",
      "3125/3125 [==============================] - 100s 32ms/step - loss: 1.4590 - binary_accuracy: 0.9054 - val_loss: 0.9019 - val_binary_accuracy: 0.9086\n",
      "Epoch 10/10\n",
      "3125/3125 [==============================] - 100s 32ms/step - loss: 1.4365 - binary_accuracy: 0.9069 - val_loss: 0.8744 - val_binary_accuracy: 0.9084\n"
     ]
    }
   ],
   "source": [
    "fit_data = model.fit(\n",
    "    flat_map_dataset,\n",
    "    epochs=10,\n",
    "    steps_per_epoch=3125,\n",
    "    callbacks=[callback],\n",
    "    validation_data=(input_output_validation_image_data,input_output_validation_label_data),\n",
    "    validation_steps=32,\n",
    ")"
   ]
  },
  {
   "cell_type": "code",
   "execution_count": 8,
   "metadata": {},
   "outputs": [
    {
     "data": {
      "text/plain": [
       "[<matplotlib.lines.Line2D at 0x1733af1f0>]"
      ]
     },
     "execution_count": 8,
     "metadata": {},
     "output_type": "execute_result"
    },
    {
     "data": {
      "image/png": "[encoded data removed]",
      "text/plain": [
       "<Figure size 432x288 with 1 Axes>"
      ]
     },
     "metadata": {
      "needs_background": "light"
     },
     "output_type": "display_data"
    }
   ],
   "source": [
    "plt.plot(fit_data.history[\"loss\"])\n",
    "plt.plot(fit_data.history[\"val_loss\"])"
   ]
  },
  {
   "cell_type": "code",
   "execution_count": 9,
   "metadata": {},
   "outputs": [
    {
     "data": {
      "text/plain": [
       "[<matplotlib.lines.Line2D at 0x2d8f7c6a0>]"
      ]
     },
     "execution_count": 9,
     "metadata": {},
     "output_type": "execute_result"
    },
    {
     "data": {
      "image/png": "[encoded data removed]",
      "text/plain": [
       "<Figure size 432x288 with 1 Axes>"
      ]
     },
     "metadata": {
      "needs_background": "light"
     },
     "output_type": "display_data"
    }
   ],
   "source": [
    "plt.plot(fit_data.history[\"binary_accuracy\"])\n",
    "plt.plot(fit_data.history[\"val_binary_accuracy\"])"
   ]
  },
  {
   "cell_type": "code",
   "execution_count": 10,
   "metadata": {},
   "outputs": [
    {
     "name": "stdout",
     "output_type": "stream",
     "text": [
      "32/32 [==============================] - 0s 12ms/step - loss: 0.8826 - binary_accuracy: 0.9083\n"
     ]
    },
    {
     "data": {
      "text/plain": [
       "[0.8826364874839783, 0.9083409905433655]"
      ]
     },
     "execution_count": 10,
     "metadata": {},
     "output_type": "execute_result"
    }
   ],
   "source": [
    "model.evaluate(x=test_image_data,y=test_label_data)"
   ]
  },
  {
   "cell_type": "code",
   "execution_count": 12,
   "metadata": {},
   "outputs": [
    {
     "name": "stderr",
     "output_type": "stream",
     "text": [
      "WARNING:absl:Found untraced functions such as _jit_compiled_convolution_op, _jit_compiled_convolution_op, _jit_compiled_convolution_op, _jit_compiled_convolution_op while saving (showing 4 of 4). These functions will not be directly callable after loading.\n"
     ]
    },
    {
     "name": "stdout",
     "output_type": "stream",
     "text": [
      "INFO:tensorflow:Assets written to: trained_model/fourth.tf/assets\n"
     ]
    },
    {
     "name": "stderr",
     "output_type": "stream",
     "text": [
      "INFO:tensorflow:Assets written to: trained_model/fourth.tf/assets\n"
     ]
    }
   ],
   "source": [
    "model.save(join(\"trained_model\",\"fourth.tf\"))"
   ]
  }
 ],
 "metadata": {
  "kernelspec": {
   "display_name": "Python 3.9.13 ('venv': venv)",
   "language": "python",
   "name": "python3"
  },
  "language_info": {
   "codemirror_mode": {
    "name": "ipython",
    "version": 3
   },
   "file_extension": ".py",
   "mimetype": "text/x-python",
   "name": "python",
   "nbconvert_exporter": "python",
   "pygments_lexer": "ipython3",
   "version": "3.9.13"
  },
  "orig_nbformat": 4,
  "vscode": {
   "interpreter": {
    "hash": "9bce7c8f73109d8f66bfe448045de37e5a63b4995198db1c99b5505d297db21f"
   }
  }
 },
 "nbformat": 4,
 "nbformat_minor": 2
}
