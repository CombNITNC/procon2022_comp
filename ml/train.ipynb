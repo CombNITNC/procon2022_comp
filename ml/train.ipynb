{
 "cells": [
  {
   "cell_type": "code",
   "execution_count": 2,
   "metadata": {},
   "outputs": [],
   "source": [
    "from keras import metrics\n",
    "from model import neural_voice_judgment_model\n",
    "import idx2numpy\n",
    "from os.path import join\n",
    "import numpy as np\n",
    "from sample_yomikomi import sample_all_data\n",
    "from keras.callbacks import EarlyStopping\n",
    "import tensorflow as tf\n",
    "from twenty_times_more_data import twenty_times_more_data\n",
    "import matplotlib.pyplot as plt\n",
    "import numpy as np\n",
    "from keras.models import Model"
   ]
  },
  {
   "cell_type": "code",
   "execution_count": 3,
   "metadata": {},
   "outputs": [],
   "source": [
    "test_label_data = idx2numpy.convert_from_file(join(\"..\",\"dataset\",\"test_label.idx\"))\n",
    "test_image_data = idx2numpy.convert_from_file(join(\"..\",\"dataset\",\"test_image.idx\"))\n",
    "input_output_train_label_data = idx2numpy.convert_from_file(join(\"..\",\"dataset\",\"train_label.idx\"))\n",
    "input_output_train_image_data = idx2numpy.convert_from_file(join(\"..\",\"dataset\",\"train_image.idx\"))\n",
    "input_output_validation_label_data = idx2numpy.convert_from_file(join(\"..\",\"dataset\",\"validation_label.idx\"))\n",
    "input_output_validation_image_data = idx2numpy.convert_from_file(join(\"..\",\"dataset\",\"validation_image.idx\"))"
   ]
  },
  {
   "cell_type": "code",
   "execution_count": 4,
   "metadata": {},
   "outputs": [
    {
     "name": "stdout",
     "output_type": "stream",
     "text": [
      "Model: \"sequential\"\n",
      "_________________________________________________________________\n",
      " Layer (type)                Output Shape              Param #   \n",
      "=================================================================\n",
      " conv2d (Conv2D)             (None, 124, 124, 8)       208       \n",
      "                                                                 \n",
      " max_pooling2d (MaxPooling2D  (None, 62, 62, 8)        0         \n",
      " )                                                               \n",
      "                                                                 \n",
      " conv2d_1 (Conv2D)           (None, 58, 58, 16)        3216      \n",
      "                                                                 \n",
      " max_pooling2d_1 (MaxPooling  (None, 29, 29, 16)       0         \n",
      " 2D)                                                             \n",
      "                                                                 \n",
      " conv2d_2 (Conv2D)           (None, 25, 25, 100)       40100     \n",
      "                                                                 \n",
      " max_pooling2d_2 (MaxPooling  (None, 12, 12, 100)      0         \n",
      " 2D)                                                             \n",
      "                                                                 \n",
      " conv2d_3 (Conv2D)           (None, 8, 8, 200)         500200    \n",
      "                                                                 \n",
      " max_pooling2d_3 (MaxPooling  (None, 4, 4, 200)        0         \n",
      " 2D)                                                             \n",
      "                                                                 \n",
      " flatten (Flatten)           (None, 3200)              0         \n",
      "                                                                 \n",
      " dense (Dense)               (None, 17424)             55774224  \n",
      "                                                                 \n",
      " dense_1 (Dense)             (None, 1024)              17843200  \n",
      "                                                                 \n",
      " dense_2 (Dense)             (None, 500)               512500    \n",
      "                                                                 \n",
      " batch_normalization (BatchN  (None, 500)              2000      \n",
      " ormalization)                                                   \n",
      "                                                                 \n",
      " dense_3 (Dense)             (None, 44)                22044     \n",
      "                                                                 \n",
      "=================================================================\n",
      "Total params: 74,697,692\n",
      "Trainable params: 74,696,692\n",
      "Non-trainable params: 1,000\n",
      "_________________________________________________________________\n"
     ]
    }
   ],
   "source": [
    "model = neural_voice_judgment_model()\n",
    "model.build((None,128,128,1))\n",
    "model.summary()\n",
    "model.compile(optimizer=\"adam\",loss=\"mean_squared_error\",metrics=metrics.TopKCategoricalAccuracy(k=5))"
   ]
  },
  {
   "cell_type": "code",
   "execution_count": 5,
   "metadata": {},
   "outputs": [],
   "source": [
    "train_label_dataset = tf.data.Dataset.from_tensor_slices(input_output_train_label_data)\n",
    "train_image_dataset = tf.data.Dataset.from_tensor_slices(input_output_train_image_data)\n",
    "train_lump_dataset = tf.data.Dataset.zip((train_image_dataset,train_label_dataset))\n",
    "callback = EarlyStopping(patience=10)\n",
    "flat_map_dataset = train_lump_dataset.flat_map(twenty_times_more_data)"
   ]
  },
  {
   "cell_type": "code",
   "execution_count": 6,
   "metadata": {},
   "outputs": [
    {
     "name": "stdout",
     "output_type": "stream",
     "text": [
      "Epoch 1/500\n",
      "45/45 [==============================] - 21s 442ms/step - loss: 0.0864 - top_k_categorical_accuracy: 0.5556 - val_loss: 0.1108 - val_top_k_categorical_accuracy: 0.2180\n",
      "Epoch 2/500\n",
      "45/45 [==============================] - 20s 440ms/step - loss: 0.0849 - top_k_categorical_accuracy: 0.5333 - val_loss: 0.1207 - val_top_k_categorical_accuracy: 0.1870\n",
      "Epoch 3/500\n",
      "45/45 [==============================] - 19s 414ms/step - loss: 0.0792 - top_k_categorical_accuracy: 0.2222 - val_loss: 0.1040 - val_top_k_categorical_accuracy: 0.1750\n",
      "Epoch 4/500\n",
      "45/45 [==============================] - 18s 394ms/step - loss: 0.0576 - top_k_categorical_accuracy: 0.5778 - val_loss: 0.1012 - val_top_k_categorical_accuracy: 0.0780\n",
      "Epoch 5/500\n",
      "45/45 [==============================] - 19s 425ms/step - loss: 0.0658 - top_k_categorical_accuracy: 0.1778 - val_loss: 0.0991 - val_top_k_categorical_accuracy: 0.0720\n",
      "Epoch 6/500\n",
      "45/45 [==============================] - 21s 461ms/step - loss: 0.0648 - top_k_categorical_accuracy: 0.3333 - val_loss: 0.1122 - val_top_k_categorical_accuracy: 0.1190\n",
      "Epoch 7/500\n",
      "45/45 [==============================] - 21s 461ms/step - loss: 0.0671 - top_k_categorical_accuracy: 0.4444 - val_loss: 0.1003 - val_top_k_categorical_accuracy: 0.1360\n",
      "Epoch 8/500\n",
      "45/45 [==============================] - 19s 427ms/step - loss: 0.0698 - top_k_categorical_accuracy: 0.3111 - val_loss: 0.1283 - val_top_k_categorical_accuracy: 0.1790\n",
      "Epoch 9/500\n",
      "45/45 [==============================] - 18s 391ms/step - loss: 0.0788 - top_k_categorical_accuracy: 0.2444 - val_loss: 0.1043 - val_top_k_categorical_accuracy: 0.0740\n",
      "Epoch 10/500\n",
      "45/45 [==============================] - 18s 407ms/step - loss: 0.0787 - top_k_categorical_accuracy: 0.4222 - val_loss: 0.1119 - val_top_k_categorical_accuracy: 0.2050\n",
      "Epoch 11/500\n",
      "45/45 [==============================] - 20s 453ms/step - loss: 0.0737 - top_k_categorical_accuracy: 0.9333 - val_loss: 0.1184 - val_top_k_categorical_accuracy: 0.1470\n",
      "Epoch 12/500\n",
      "45/45 [==============================] - 20s 437ms/step - loss: 0.0820 - top_k_categorical_accuracy: 0.6444 - val_loss: 0.1255 - val_top_k_categorical_accuracy: 0.1260\n",
      "Epoch 13/500\n",
      "45/45 [==============================] - 19s 420ms/step - loss: 0.0824 - top_k_categorical_accuracy: 0.5556 - val_loss: 0.1133 - val_top_k_categorical_accuracy: 0.1010\n",
      "Epoch 14/500\n",
      "45/45 [==============================] - 22s 494ms/step - loss: 0.0858 - top_k_categorical_accuracy: 0.1556 - val_loss: 0.1105 - val_top_k_categorical_accuracy: 0.1050\n",
      "Epoch 15/500\n",
      "45/45 [==============================] - 20s 443ms/step - loss: 0.0738 - top_k_categorical_accuracy: 0.3778 - val_loss: 0.1027 - val_top_k_categorical_accuracy: 0.1690\n"
     ]
    }
   ],
   "source": [
    "fit_data = model.fit(\n",
    "    flat_map_dataset,epochs=500,\n",
    "    steps_per_epoch=45,\n",
    "    callbacks=[callback],\n",
    "    validation_data=(input_output_validation_image_data,input_output_validation_label_data),\n",
    "    validation_steps=1,\n",
    ")"
   ]
  },
  {
   "cell_type": "code",
   "execution_count": 7,
   "metadata": {},
   "outputs": [
    {
     "data": {
      "text/plain": [
       "[<matplotlib.lines.Line2D at 0x23242f00b50>]"
      ]
     },
     "execution_count": 7,
     "metadata": {},
     "output_type": "execute_result"
    },
    {
     "data": {
      "image/png": "[encoded data removed]",
      "text/plain": [
       "<Figure size 432x288 with 1 Axes>"
      ]
     },
     "metadata": {
      "needs_background": "light"
     },
     "output_type": "display_data"
    }
   ],
   "source": [
    "plt.plot(fit_data.history[\"loss\"])\n",
    "plt.plot(fit_data.history[\"val_loss\"])"
   ]
  },
  {
   "cell_type": "code",
   "execution_count": 8,
   "metadata": {},
   "outputs": [
    {
     "data": {
      "text/plain": [
       "[<matplotlib.lines.Line2D at 0x23244606eb0>]"
      ]
     },
     "execution_count": 8,
     "metadata": {},
     "output_type": "execute_result"
    },
    {
     "data": {
      "image/png": "[encoded data removed]",
      "text/plain": [
       "<Figure size 432x288 with 1 Axes>"
      ]
     },
     "metadata": {
      "needs_background": "light"
     },
     "output_type": "display_data"
    }
   ],
   "source": [
    "plt.plot(fit_data.history[\"top_k_categorical_accuracy\"])\n",
    "plt.plot(fit_data.history[\"val_top_k_categorical_accuracy\"])"
   ]
  },
  {
   "cell_type": "code",
   "execution_count": null,
   "metadata": {},
   "outputs": [],
   "source": [
    "model.evaluate(x=test_image_data,y=test_label_data)"
   ]
  },
  {
   "cell_type": "code",
   "execution_count": null,
   "metadata": {},
   "outputs": [],
   "source": [
    "model.save(join(\"trained_model\",\"fourth.tf\"))"
   ]
  }
 ],
 "metadata": {
  "kernelspec": {
   "display_name": "Python 3.9.13 ('venv': venv)",
   "language": "python",
   "name": "python3"
  },
  "language_info": {
   "codemirror_mode": {
    "name": "ipython",
    "version": 3
   },
   "file_extension": ".py",
   "mimetype": "text/x-python",
   "name": "python",
   "nbconvert_exporter": "python",
   "pygments_lexer": "ipython3",
   "version": "3.9.13"
  },
  "orig_nbformat": 4,
  "vscode": {
   "interpreter": {
    "hash": "9bce7c8f73109d8f66bfe448045de37e5a63b4995198db1c99b5505d297db21f"
   }
  }
 },
 "nbformat": 4,
 "nbformat_minor": 2
}
