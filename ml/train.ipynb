{
 "cells": [
  {
   "cell_type": "code",
   "execution_count": 1,
   "metadata": {},
   "outputs": [],
   "source": [
    "from keras import metrics\n",
    "from model import neural_voice_judgment_model\n",
    "import idx2numpy\n",
    "from os.path import join\n",
    "import numpy as np\n",
    "from sample_yomikomi import sample_all_data\n",
    "from keras.callbacks import EarlyStopping\n",
    "import tensorflow as tf\n",
    "from twenty_times_more_data import twenty_times_more_data\n",
    "import matplotlib.pyplot as plt\n",
    "import numpy as np\n",
    "from keras.models import Model\n",
    "import keras.backend as K\n",
    "from focal_loss import focal_loss\n",
    "from keras.optimizers import Adam"
   ]
  },
  {
   "cell_type": "code",
   "execution_count": 2,
   "metadata": {},
   "outputs": [],
   "source": [
    "test_label_data = idx2numpy.convert_from_file(join(\"..\",\"dataset\",\"test_label.idx\"))\n",
    "test_image_data = idx2numpy.convert_from_file(join(\"..\",\"dataset\",\"test_image.idx\"))\n",
    "input_output_train_label_data = idx2numpy.convert_from_file(join(\"..\",\"dataset\",\"train_label.idx\"))\n",
    "input_output_train_image_data = idx2numpy.convert_from_file(join(\"..\",\"dataset\",\"train_image.idx\"))\n",
    "input_output_validation_label_data = idx2numpy.convert_from_file(join(\"..\",\"dataset\",\"validation_label.idx\"))\n",
    "input_output_validation_image_data = idx2numpy.convert_from_file(join(\"..\",\"dataset\",\"validation_image.idx\"))"
   ]
  },
  {
   "cell_type": "code",
   "execution_count": 3,
   "metadata": {},
   "outputs": [
    {
     "name": "stdout",
     "output_type": "stream",
     "text": [
      "Metal device set to: Apple M1 Pro\n",
      "\n",
      "systemMemory: 16.00 GB\n",
      "maxCacheSize: 5.33 GB\n",
      "\n",
      "Model: \"sequential\"\n",
      "_________________________________________________________________\n",
      " Layer (type)                Output Shape              Param #   \n",
      "=================================================================\n",
      " conv2d (Conv2D)             (None, 124, 124, 8)       208       \n",
      "                                                                 \n",
      " max_pooling2d (MaxPooling2D  (None, 62, 62, 8)        0         \n",
      " )                                                               \n",
      "                                                                 \n",
      " batch_normalization (BatchN  (None, 62, 62, 8)        32        \n",
      " ormalization)                                                   \n",
      "                                                                 \n",
      " conv2d_1 (Conv2D)           (None, 58, 58, 16)        3216      \n",
      "                                                                 \n",
      " max_pooling2d_1 (MaxPooling  (None, 29, 29, 16)       0         \n",
      " 2D)                                                             \n",
      "                                                                 \n",
      " conv2d_2 (Conv2D)           (None, 25, 25, 100)       40100     \n",
      "                                                                 \n",
      " max_pooling2d_2 (MaxPooling  (None, 12, 12, 100)      0         \n",
      " 2D)                                                             \n",
      "                                                                 \n",
      " conv2d_3 (Conv2D)           (None, 8, 8, 200)         500200    \n",
      "                                                                 \n",
      " max_pooling2d_3 (MaxPooling  (None, 4, 4, 200)        0         \n",
      " 2D)                                                             \n",
      "                                                                 \n",
      " flatten (Flatten)           (None, 3200)              0         \n",
      "                                                                 \n",
      " dense (Dense)               (None, 17424)             55774224  \n",
      "                                                                 \n",
      " dense_1 (Dense)             (None, 1024)              17843200  \n",
      "                                                                 \n",
      " batch_normalization_1 (Batc  (None, 1024)             4096      \n",
      " hNormalization)                                                 \n",
      "                                                                 \n",
      " dense_2 (Dense)             (None, 500)               512500    \n",
      "                                                                 \n",
      " dense_3 (Dense)             (None, 44)                22044     \n",
      "                                                                 \n",
      "=================================================================\n",
      "Total params: 74,699,820\n",
      "Trainable params: 74,697,756\n",
      "Non-trainable params: 2,064\n",
      "_________________________________________________________________\n"
     ]
    },
    {
     "name": "stderr",
     "output_type": "stream",
     "text": [
      "2022-10-15 06:37:09.040518: I tensorflow/core/common_runtime/pluggable_device/pluggable_device_factory.cc:305] Could not identify NUMA node of platform GPU ID 0, defaulting to 0. Your kernel may not have been built with NUMA support.\n",
      "2022-10-15 06:37:09.040618: I tensorflow/core/common_runtime/pluggable_device/pluggable_device_factory.cc:271] Created TensorFlow device (/job:localhost/replica:0/task:0/device:GPU:0 with 0 MB memory) -> physical PluggableDevice (device: 0, name: METAL, pci bus id: <undefined>)\n"
     ]
    }
   ],
   "source": [
    "model = neural_voice_judgment_model()\n",
    "model.build((None,128,128,1))\n",
    "model.summary()"
   ]
  },
  {
   "cell_type": "code",
   "execution_count": 4,
   "metadata": {},
   "outputs": [],
   "source": [
    "model.compile(\n",
    "    optimizer=Adam(),\n",
    "    loss=\"binary_crossentropy\",\n",
    "    metrics=[\n",
    "        \"binary_accuracy\",\n",
    "        metrics.Precision(name=\"precision\", top_k=5),\n",
    "    ],\n",
    ")"
   ]
  },
  {
   "cell_type": "code",
   "execution_count": 5,
   "metadata": {},
   "outputs": [],
   "source": [
    "train_label_dataset = tf.data.Dataset.from_tensor_slices(input_output_train_label_data)\n",
    "train_image_dataset = tf.data.Dataset.from_tensor_slices(input_output_train_image_data)\n",
    "train_lump_dataset = tf.data.Dataset.zip((train_image_dataset,train_label_dataset))\n",
    "callback = EarlyStopping(patience=10)\n",
    "flat_map_dataset = train_lump_dataset.flat_map(twenty_times_more_data)"
   ]
  },
  {
   "cell_type": "code",
   "execution_count": 6,
   "metadata": {},
   "outputs": [
    {
     "name": "stdout",
     "output_type": "stream",
     "text": [
      "Epoch 1/100\n"
     ]
    },
    {
     "name": "stderr",
     "output_type": "stream",
     "text": [
      "2022-10-15 06:37:09.661521: W tensorflow/core/platform/profile_utils/cpu_utils.cc:128] Failed to get CPU frequency: 0 Hz\n",
      "2022-10-15 06:37:10.100670: I tensorflow/core/grappler/optimizers/custom_graph_optimizer_registry.cc:113] Plugin optimizer for device_type GPU is enabled.\n"
     ]
    },
    {
     "name": "stdout",
     "output_type": "stream",
     "text": [
      "499/500 [============================>.] - ETA: 0s - loss: 2.9813 - binary_accuracy: 0.9032 - precision: 0.1687"
     ]
    },
    {
     "name": "stderr",
     "output_type": "stream",
     "text": [
      "2022-10-15 06:37:30.384149: I tensorflow/core/grappler/optimizers/custom_graph_optimizer_registry.cc:113] Plugin optimizer for device_type GPU is enabled.\n"
     ]
    },
    {
     "name": "stdout",
     "output_type": "stream",
     "text": [
      "500/500 [==============================] - 21s 41ms/step - loss: 2.9765 - binary_accuracy: 0.9032 - precision: 0.1684 - val_loss: 0.5572 - val_binary_accuracy: 0.9089 - val_precision: 0.0920\n",
      "Epoch 2/100\n",
      "500/500 [==============================] - 20s 40ms/step - loss: 0.5092 - binary_accuracy: 0.9091 - precision: 0.1156 - val_loss: 0.4689 - val_binary_accuracy: 0.9089 - val_precision: 0.0896\n",
      "Epoch 3/100\n",
      "500/500 [==============================] - 20s 39ms/step - loss: 0.4390 - binary_accuracy: 0.9082 - precision: 0.1044 - val_loss: 0.4125 - val_binary_accuracy: 0.9089 - val_precision: 0.0990\n",
      "Epoch 4/100\n",
      "500/500 [==============================] - 20s 39ms/step - loss: 0.3943 - binary_accuracy: 0.9073 - precision: 0.0752 - val_loss: 0.3766 - val_binary_accuracy: 0.9089 - val_precision: 0.0920\n",
      "Epoch 5/100\n",
      "500/500 [==============================] - 20s 39ms/step - loss: 0.3671 - binary_accuracy: 0.9064 - precision: 0.0936 - val_loss: 0.3533 - val_binary_accuracy: 0.9089 - val_precision: 0.0926\n",
      "Epoch 6/100\n",
      "500/500 [==============================] - 20s 40ms/step - loss: 0.3368 - binary_accuracy: 0.9127 - precision: 0.1168 - val_loss: 0.3375 - val_binary_accuracy: 0.9089 - val_precision: 0.0982\n",
      "Epoch 7/100\n",
      "500/500 [==============================] - 20s 40ms/step - loss: 0.3304 - binary_accuracy: 0.9091 - precision: 0.1136 - val_loss: 0.3273 - val_binary_accuracy: 0.9089 - val_precision: 0.0954\n",
      "Epoch 8/100\n",
      "500/500 [==============================] - 20s 40ms/step - loss: 0.3253 - binary_accuracy: 0.9073 - precision: 0.1184 - val_loss: 0.3209 - val_binary_accuracy: 0.9089 - val_precision: 0.0954\n",
      "Epoch 9/100\n",
      "500/500 [==============================] - 20s 40ms/step - loss: 0.3271 - binary_accuracy: 0.9018 - precision: 0.1196 - val_loss: 0.3174 - val_binary_accuracy: 0.9089 - val_precision: 0.0920\n",
      "Epoch 10/100\n",
      "500/500 [==============================] - 20s 40ms/step - loss: 0.3214 - binary_accuracy: 0.9055 - precision: 0.0848 - val_loss: 0.3141 - val_binary_accuracy: 0.9089 - val_precision: 0.0912\n",
      "Epoch 11/100\n",
      "500/500 [==============================] - 20s 40ms/step - loss: 0.3113 - binary_accuracy: 0.9091 - precision: 0.1328 - val_loss: 0.3117 - val_binary_accuracy: 0.9089 - val_precision: 0.0946\n",
      "Epoch 12/100\n",
      "500/500 [==============================] - 20s 40ms/step - loss: 0.3099 - binary_accuracy: 0.9082 - precision: 0.1068 - val_loss: 0.3104 - val_binary_accuracy: 0.9089 - val_precision: 0.0946\n",
      "Epoch 13/100\n",
      "500/500 [==============================] - 20s 40ms/step - loss: 0.2999 - binary_accuracy: 0.9127 - precision: 0.1032 - val_loss: 0.3090 - val_binary_accuracy: 0.9089 - val_precision: 0.0932\n",
      "Epoch 14/100\n",
      "500/500 [==============================] - 20s 39ms/step - loss: 0.3123 - binary_accuracy: 0.9055 - precision: 0.1440 - val_loss: 0.3085 - val_binary_accuracy: 0.9089 - val_precision: 0.0946\n",
      "Epoch 15/100\n",
      "500/500 [==============================] - 20s 40ms/step - loss: 0.3009 - binary_accuracy: 0.9127 - precision: 0.1096 - val_loss: 0.3077 - val_binary_accuracy: 0.9089 - val_precision: 0.0924\n",
      "Epoch 16/100\n",
      "500/500 [==============================] - 20s 40ms/step - loss: 0.3049 - binary_accuracy: 0.9109 - precision: 0.0580 - val_loss: 0.3069 - val_binary_accuracy: 0.9089 - val_precision: 0.0886\n",
      "Epoch 17/100\n",
      "500/500 [==============================] - 20s 40ms/step - loss: 0.2989 - binary_accuracy: 0.9118 - precision: 0.0944 - val_loss: 0.3069 - val_binary_accuracy: 0.9089 - val_precision: 0.0916\n",
      "Epoch 18/100\n",
      "500/500 [==============================] - 20s 39ms/step - loss: 0.3171 - binary_accuracy: 0.9036 - precision: 0.1064 - val_loss: 0.3069 - val_binary_accuracy: 0.9089 - val_precision: 0.0874\n",
      "Epoch 19/100\n",
      "500/500 [==============================] - 20s 40ms/step - loss: 0.2975 - binary_accuracy: 0.9127 - precision: 0.0836 - val_loss: 0.3067 - val_binary_accuracy: 0.9089 - val_precision: 0.0866\n",
      "Epoch 20/100\n",
      "500/500 [==============================] - 20s 40ms/step - loss: 0.3084 - binary_accuracy: 0.9064 - precision: 0.1364 - val_loss: 0.3072 - val_binary_accuracy: 0.9089 - val_precision: 0.0866\n",
      "Epoch 21/100\n",
      "500/500 [==============================] - 20s 40ms/step - loss: 0.2988 - binary_accuracy: 0.9118 - precision: 0.0984 - val_loss: 0.3068 - val_binary_accuracy: 0.9089 - val_precision: 0.0876\n",
      "Epoch 22/100\n",
      "500/500 [==============================] - 20s 40ms/step - loss: 0.3269 - binary_accuracy: 0.9000 - precision: 0.0992 - val_loss: 0.3069 - val_binary_accuracy: 0.9089 - val_precision: 0.0850\n",
      "Epoch 23/100\n",
      "500/500 [==============================] - 20s 40ms/step - loss: 0.3097 - binary_accuracy: 0.9073 - precision: 0.0784 - val_loss: 0.3068 - val_binary_accuracy: 0.9089 - val_precision: 0.0874\n",
      "Epoch 24/100\n",
      "500/500 [==============================] - 20s 39ms/step - loss: 0.3130 - binary_accuracy: 0.9055 - precision: 0.1032 - val_loss: 0.3066 - val_binary_accuracy: 0.9089 - val_precision: 0.0946\n",
      "Epoch 25/100\n",
      "500/500 [==============================] - 20s 40ms/step - loss: 0.3247 - binary_accuracy: 0.9000 - precision: 0.1080 - val_loss: 0.3067 - val_binary_accuracy: 0.9089 - val_precision: 0.0918\n",
      "Epoch 26/100\n",
      "500/500 [==============================] - 20s 40ms/step - loss: 0.2894 - binary_accuracy: 0.9155 - precision: 0.1380 - val_loss: 0.3066 - val_binary_accuracy: 0.9089 - val_precision: 0.0936\n",
      "Epoch 27/100\n",
      "500/500 [==============================] - 20s 39ms/step - loss: 0.3083 - binary_accuracy: 0.9082 - precision: 0.0964 - val_loss: 0.3066 - val_binary_accuracy: 0.9089 - val_precision: 0.0902\n",
      "Epoch 28/100\n",
      "500/500 [==============================] - 20s 40ms/step - loss: 0.3111 - binary_accuracy: 0.9064 - precision: 0.0924 - val_loss: 0.3066 - val_binary_accuracy: 0.9089 - val_precision: 0.0966\n",
      "Epoch 29/100\n",
      "500/500 [==============================] - 20s 40ms/step - loss: 0.3070 - binary_accuracy: 0.9082 - precision: 0.1248 - val_loss: 0.3066 - val_binary_accuracy: 0.9089 - val_precision: 0.0932\n",
      "Epoch 30/100\n",
      "500/500 [==============================] - 20s 40ms/step - loss: 0.3103 - binary_accuracy: 0.9064 - precision: 0.1188 - val_loss: 0.3069 - val_binary_accuracy: 0.9089 - val_precision: 0.0942\n",
      "Epoch 31/100\n",
      "500/500 [==============================] - 20s 40ms/step - loss: 0.3085 - binary_accuracy: 0.9073 - precision: 0.1428 - val_loss: 0.3069 - val_binary_accuracy: 0.9089 - val_precision: 0.0926\n",
      "Epoch 32/100\n",
      "500/500 [==============================] - 20s 39ms/step - loss: 0.3141 - binary_accuracy: 0.9055 - precision: 0.1028 - val_loss: 0.3066 - val_binary_accuracy: 0.9089 - val_precision: 0.0900\n",
      "Epoch 33/100\n",
      "500/500 [==============================] - 20s 40ms/step - loss: 0.2981 - binary_accuracy: 0.9118 - precision: 0.0936 - val_loss: 0.3068 - val_binary_accuracy: 0.9089 - val_precision: 0.0938\n",
      "Epoch 34/100\n",
      "500/500 [==============================] - 20s 39ms/step - loss: 0.3216 - binary_accuracy: 0.9027 - precision: 0.0760 - val_loss: 0.3066 - val_binary_accuracy: 0.9089 - val_precision: 0.0916\n",
      "Epoch 35/100\n",
      "500/500 [==============================] - 20s 39ms/step - loss: 0.3025 - binary_accuracy: 0.9100 - precision: 0.0936 - val_loss: 0.3067 - val_binary_accuracy: 0.9089 - val_precision: 0.0906\n",
      "Epoch 36/100\n",
      "500/500 [==============================] - 20s 40ms/step - loss: 0.3051 - binary_accuracy: 0.9091 - precision: 0.1100 - val_loss: 0.3066 - val_binary_accuracy: 0.9089 - val_precision: 0.0864\n",
      "Epoch 37/100\n",
      "500/500 [==============================] - 20s 39ms/step - loss: 0.2971 - binary_accuracy: 0.9127 - precision: 0.1068 - val_loss: 0.3066 - val_binary_accuracy: 0.9089 - val_precision: 0.0876\n",
      "Epoch 38/100\n",
      "500/500 [==============================] - 20s 39ms/step - loss: 0.3075 - binary_accuracy: 0.9073 - precision: 0.1200 - val_loss: 0.3067 - val_binary_accuracy: 0.9089 - val_precision: 0.0910\n",
      "Epoch 39/100\n",
      "500/500 [==============================] - 20s 39ms/step - loss: 0.2964 - binary_accuracy: 0.9127 - precision: 0.0916 - val_loss: 0.3067 - val_binary_accuracy: 0.9089 - val_precision: 0.0926\n",
      "Epoch 40/100\n",
      "500/500 [==============================] - 20s 40ms/step - loss: 0.3001 - binary_accuracy: 0.9109 - precision: 0.1420 - val_loss: 0.3068 - val_binary_accuracy: 0.9089 - val_precision: 0.0878\n",
      "Epoch 41/100\n",
      "500/500 [==============================] - 20s 40ms/step - loss: 0.3103 - binary_accuracy: 0.9064 - precision: 0.1452 - val_loss: 0.3068 - val_binary_accuracy: 0.9089 - val_precision: 0.0894\n",
      "Epoch 42/100\n",
      "500/500 [==============================] - 20s 39ms/step - loss: 0.2941 - binary_accuracy: 0.9136 - precision: 0.0640 - val_loss: 0.3068 - val_binary_accuracy: 0.9089 - val_precision: 0.0848\n",
      "Epoch 43/100\n",
      "500/500 [==============================] - 20s 39ms/step - loss: 0.2953 - binary_accuracy: 0.9136 - precision: 0.0912 - val_loss: 0.3066 - val_binary_accuracy: 0.9089 - val_precision: 0.0928\n",
      "Epoch 44/100\n",
      "500/500 [==============================] - 20s 40ms/step - loss: 0.3143 - binary_accuracy: 0.9064 - precision: 0.0660 - val_loss: 0.3064 - val_binary_accuracy: 0.9089 - val_precision: 0.0892\n",
      "Epoch 45/100\n",
      "500/500 [==============================] - 20s 40ms/step - loss: 0.3068 - binary_accuracy: 0.9091 - precision: 0.0744 - val_loss: 0.3063 - val_binary_accuracy: 0.9089 - val_precision: 0.0924\n",
      "Epoch 46/100\n",
      "500/500 [==============================] - 20s 40ms/step - loss: 0.3048 - binary_accuracy: 0.9082 - precision: 0.1384 - val_loss: 0.3067 - val_binary_accuracy: 0.9089 - val_precision: 0.0902\n",
      "Epoch 47/100\n",
      "500/500 [==============================] - 20s 39ms/step - loss: 0.2955 - binary_accuracy: 0.9127 - precision: 0.0580 - val_loss: 0.3070 - val_binary_accuracy: 0.9089 - val_precision: 0.0964\n",
      "Epoch 48/100\n",
      "500/500 [==============================] - 20s 40ms/step - loss: 0.2994 - binary_accuracy: 0.9127 - precision: 0.0752 - val_loss: 0.3067 - val_binary_accuracy: 0.9089 - val_precision: 0.0920\n",
      "Epoch 49/100\n",
      "500/500 [==============================] - 20s 39ms/step - loss: 0.3149 - binary_accuracy: 0.9055 - precision: 0.0936 - val_loss: 0.3064 - val_binary_accuracy: 0.9089 - val_precision: 0.0968\n",
      "Epoch 50/100\n",
      "500/500 [==============================] - 20s 40ms/step - loss: 0.2967 - binary_accuracy: 0.9127 - precision: 0.0908 - val_loss: 0.3064 - val_binary_accuracy: 0.9089 - val_precision: 0.0968\n",
      "Epoch 51/100\n",
      "500/500 [==============================] - 20s 40ms/step - loss: 0.3081 - binary_accuracy: 0.9064 - precision: 0.1884 - val_loss: 0.3067 - val_binary_accuracy: 0.9089 - val_precision: 0.0932\n",
      "Epoch 52/100\n",
      "500/500 [==============================] - 20s 40ms/step - loss: 0.3309 - binary_accuracy: 0.8991 - precision: 0.0844 - val_loss: 0.3065 - val_binary_accuracy: 0.9089 - val_precision: 0.0938\n",
      "Epoch 53/100\n",
      "500/500 [==============================] - 20s 40ms/step - loss: 0.3066 - binary_accuracy: 0.9073 - precision: 0.1732 - val_loss: 0.3069 - val_binary_accuracy: 0.9089 - val_precision: 0.0938\n",
      "Epoch 54/100\n",
      "500/500 [==============================] - 20s 39ms/step - loss: 0.3194 - binary_accuracy: 0.9036 - precision: 0.0796 - val_loss: 0.3067 - val_binary_accuracy: 0.9089 - val_precision: 0.0938\n",
      "Epoch 55/100\n",
      "500/500 [==============================] - 20s 39ms/step - loss: 0.3162 - binary_accuracy: 0.9045 - precision: 0.1176 - val_loss: 0.3067 - val_binary_accuracy: 0.9089 - val_precision: 0.0938\n"
     ]
    }
   ],
   "source": [
    "fit_data = model.fit(\n",
    "    flat_map_dataset,\n",
    "    epochs=100,\n",
    "    steps_per_epoch=5000 * 20 / 200,\n",
    "    callbacks=[callback],\n",
    "    validation_data=(input_output_validation_image_data,input_output_validation_label_data),\n",
    "    validation_steps=1000 / 200,\n",
    ")"
   ]
  },
  {
   "cell_type": "code",
   "execution_count": 7,
   "metadata": {},
   "outputs": [
    {
     "data": {
      "text/plain": [
       "[<matplotlib.lines.Line2D at 0x308f14250>]"
      ]
     },
     "execution_count": 7,
     "metadata": {},
     "output_type": "execute_result"
    },
    {
     "data": {
      "image/png": "[encoded data removed]",
      "text/plain": [
       "<Figure size 432x288 with 1 Axes>"
      ]
     },
     "metadata": {
      "needs_background": "light"
     },
     "output_type": "display_data"
    }
   ],
   "source": [
    "plt.plot(fit_data.history[\"loss\"])\n",
    "plt.plot(fit_data.history[\"val_loss\"])"
   ]
  },
  {
   "cell_type": "code",
   "execution_count": 8,
   "metadata": {},
   "outputs": [
    {
     "data": {
      "text/plain": [
       "[<matplotlib.lines.Line2D at 0x308ffaf40>]"
      ]
     },
     "execution_count": 8,
     "metadata": {},
     "output_type": "execute_result"
    },
    {
     "data": {
      "image/png": "[encoded data removed]",
      "text/plain": [
       "<Figure size 432x288 with 1 Axes>"
      ]
     },
     "metadata": {
      "needs_background": "light"
     },
     "output_type": "display_data"
    }
   ],
   "source": [
    "plt.plot(fit_data.history[\"binary_accuracy\"])\n",
    "plt.plot(fit_data.history[\"val_binary_accuracy\"])"
   ]
  },
  {
   "cell_type": "code",
   "execution_count": 9,
   "metadata": {},
   "outputs": [
    {
     "data": {
      "text/plain": [
       "[<matplotlib.lines.Line2D at 0x309971640>]"
      ]
     },
     "execution_count": 9,
     "metadata": {},
     "output_type": "execute_result"
    },
    {
     "data": {
      "image/png": "[encoded data removed]",
      "text/plain": [
       "<Figure size 432x288 with 1 Axes>"
      ]
     },
     "metadata": {
      "needs_background": "light"
     },
     "output_type": "display_data"
    }
   ],
   "source": [
    "plt.plot(fit_data.history[\"precision\"])\n",
    "plt.plot(fit_data.history[\"val_precision\"])"
   ]
  },
  {
   "cell_type": "code",
   "execution_count": 10,
   "metadata": {},
   "outputs": [
    {
     "name": "stdout",
     "output_type": "stream",
     "text": [
      " 1/32 [..............................] - ETA: 8s - loss: 0.3067 - binary_accuracy: 0.9091 - precision: 0.0813"
     ]
    },
    {
     "name": "stderr",
     "output_type": "stream",
     "text": [
      "2022-10-15 06:55:19.030686: I tensorflow/core/grappler/optimizers/custom_graph_optimizer_registry.cc:113] Plugin optimizer for device_type GPU is enabled.\n"
     ]
    },
    {
     "name": "stdout",
     "output_type": "stream",
     "text": [
      "32/32 [==============================] - 1s 20ms/step - loss: 0.3068 - binary_accuracy: 0.9089 - precision: 0.0906\n"
     ]
    },
    {
     "data": {
      "text/plain": [
       "[0.30680689215660095, 0.9089091420173645, 0.09060000628232956]"
      ]
     },
     "execution_count": 10,
     "metadata": {},
     "output_type": "execute_result"
    }
   ],
   "source": [
    "model.evaluate(x=test_image_data,y=test_label_data)"
   ]
  },
  {
   "cell_type": "code",
   "execution_count": 11,
   "metadata": {},
   "outputs": [
    {
     "name": "stderr",
     "output_type": "stream",
     "text": [
      "WARNING:absl:Found untraced functions such as _jit_compiled_convolution_op, _jit_compiled_convolution_op, _jit_compiled_convolution_op, _jit_compiled_convolution_op while saving (showing 4 of 4). These functions will not be directly callable after loading.\n"
     ]
    },
    {
     "name": "stdout",
     "output_type": "stream",
     "text": [
      "INFO:tensorflow:Assets written to: trained_model/seventh.tf/assets\n"
     ]
    },
    {
     "name": "stderr",
     "output_type": "stream",
     "text": [
      "INFO:tensorflow:Assets written to: trained_model/seventh.tf/assets\n"
     ]
    }
   ],
   "source": [
    "model.save(join(\"trained_model\",\"seventh.tf\"))"
   ]
  }
 ],
 "metadata": {
  "kernelspec": {
   "display_name": "Python 3.9.13 ('venv': venv)",
   "language": "python",
   "name": "python3"
  },
  "language_info": {
   "codemirror_mode": {
    "name": "ipython",
    "version": 3
   },
   "file_extension": ".py",
   "mimetype": "text/x-python",
   "name": "python",
   "nbconvert_exporter": "python",
   "pygments_lexer": "ipython3",
   "version": "3.9.13"
  },
  "orig_nbformat": 4,
  "vscode": {
   "interpreter": {
    "hash": "9bce7c8f73109d8f66bfe448045de37e5a63b4995198db1c99b5505d297db21f"
   }
  }
 },
 "nbformat": 4,
 "nbformat_minor": 2
}
