{
 "cells": [
  {
   "cell_type": "code",
   "execution_count": 1,
   "metadata": {},
   "outputs": [],
   "source": [
    "from keras import metrics\n",
    "from model import neural_voice_judgment_model\n",
    "import idx2numpy\n",
    "from os.path import join\n",
    "import numpy as np\n",
    "from sample_yomikomi import sample_all_data\n",
    "from keras.callbacks import EarlyStopping\n",
    "import tensorflow as tf\n",
    "from twenty_times_more_data import twenty_times_more_data\n",
    "import matplotlib.pyplot as plt\n",
    "import numpy as np\n",
    "from keras.models import Model\n",
    "import keras.backend as K\n",
    "from focal_loss import focal_loss"
   ]
  },
  {
   "cell_type": "code",
   "execution_count": 2,
   "metadata": {},
   "outputs": [],
   "source": [
    "test_label_data = idx2numpy.convert_from_file(join(\"..\",\"dataset\",\"test_label.idx\"))\n",
    "test_image_data = idx2numpy.convert_from_file(join(\"..\",\"dataset\",\"test_image.idx\"))\n",
    "input_output_train_label_data = idx2numpy.convert_from_file(join(\"..\",\"dataset\",\"train_label.idx\"))\n",
    "input_output_train_image_data = idx2numpy.convert_from_file(join(\"..\",\"dataset\",\"train_image.idx\"))\n",
    "input_output_validation_label_data = idx2numpy.convert_from_file(join(\"..\",\"dataset\",\"validation_label.idx\"))\n",
    "input_output_validation_image_data = idx2numpy.convert_from_file(join(\"..\",\"dataset\",\"validation_image.idx\"))"
   ]
  },
  {
   "cell_type": "code",
   "execution_count": 3,
   "metadata": {},
   "outputs": [
    {
     "name": "stdout",
     "output_type": "stream",
     "text": [
      "Metal device set to: Apple M1 Pro\n",
      "\n",
      "systemMemory: 16.00 GB\n",
      "maxCacheSize: 5.33 GB\n",
      "\n",
      "Model: \"sequential\"\n",
      "_________________________________________________________________\n",
      " Layer (type)                Output Shape              Param #   \n",
      "=================================================================\n",
      " conv2d (Conv2D)             (None, 124, 124, 8)       208       \n",
      "                                                                 \n",
      " max_pooling2d (MaxPooling2D  (None, 62, 62, 8)        0         \n",
      " )                                                               \n",
      "                                                                 \n",
      " batch_normalization (BatchN  (None, 62, 62, 8)        32        \n",
      " ormalization)                                                   \n",
      "                                                                 \n",
      " conv2d_1 (Conv2D)           (None, 58, 58, 16)        3216      \n",
      "                                                                 \n",
      " max_pooling2d_1 (MaxPooling  (None, 29, 29, 16)       0         \n",
      " 2D)                                                             \n",
      "                                                                 \n",
      " conv2d_2 (Conv2D)           (None, 25, 25, 100)       40100     \n",
      "                                                                 \n",
      " max_pooling2d_2 (MaxPooling  (None, 12, 12, 100)      0         \n",
      " 2D)                                                             \n",
      "                                                                 \n",
      " conv2d_3 (Conv2D)           (None, 8, 8, 200)         500200    \n",
      "                                                                 \n",
      " max_pooling2d_3 (MaxPooling  (None, 4, 4, 200)        0         \n",
      " 2D)                                                             \n",
      "                                                                 \n",
      " flatten (Flatten)           (None, 3200)              0         \n",
      "                                                                 \n",
      " dense (Dense)               (None, 17424)             55774224  \n",
      "                                                                 \n",
      " dense_1 (Dense)             (None, 1024)              17843200  \n",
      "                                                                 \n"
     ]
    },
    {
     "name": "stderr",
     "output_type": "stream",
     "text": [
      "2022-10-14 19:14:35.104703: I tensorflow/core/common_runtime/pluggable_device/pluggable_device_factory.cc:305] Could not identify NUMA node of platform GPU ID 0, defaulting to 0. Your kernel may not have been built with NUMA support.\n",
      "2022-10-14 19:14:35.104794: I tensorflow/core/common_runtime/pluggable_device/pluggable_device_factory.cc:271] Created TensorFlow device (/job:localhost/replica:0/task:0/device:GPU:0 with 0 MB memory) -> physical PluggableDevice (device: 0, name: METAL, pci bus id: <undefined>)\n"
     ]
    },
    {
     "name": "stdout",
     "output_type": "stream",
     "text": [
      " batch_normalization_1 (Batc  (None, 1024)             4096      \n",
      " hNormalization)                                                 \n",
      "                                                                 \n",
      " dense_2 (Dense)             (None, 500)               512500    \n",
      "                                                                 \n",
      " dense_3 (Dense)             (None, 44)                22044     \n",
      "                                                                 \n",
      "=================================================================\n",
      "Total params: 74,699,820\n",
      "Trainable params: 74,697,756\n",
      "Non-trainable params: 2,064\n",
      "_________________________________________________________________\n"
     ]
    }
   ],
   "source": [
    "model = neural_voice_judgment_model()\n",
    "model.build((None,128,128,1))\n",
    "model.summary()"
   ]
  },
  {
   "cell_type": "code",
   "execution_count": 4,
   "metadata": {},
   "outputs": [],
   "source": [
    "model.compile(\n",
    "    optimizer=\"adam\",\n",
    "    loss=focal_loss(gamma=1.5, alpha=0.25),\n",
    "    metrics=[\n",
    "        \"binary_accuracy\",\n",
    "        metrics.Precision(name=\"precision\", top_k=5),\n",
    "    ],\n",
    ")"
   ]
  },
  {
   "cell_type": "code",
   "execution_count": 5,
   "metadata": {},
   "outputs": [],
   "source": [
    "train_label_dataset = tf.data.Dataset.from_tensor_slices(input_output_train_label_data)\n",
    "train_image_dataset = tf.data.Dataset.from_tensor_slices(input_output_train_image_data)\n",
    "train_lump_dataset = tf.data.Dataset.zip((train_image_dataset,train_label_dataset))\n",
    "callback = EarlyStopping(patience=10)\n",
    "flat_map_dataset = train_lump_dataset.flat_map(twenty_times_more_data)"
   ]
  },
  {
   "cell_type": "code",
   "execution_count": 6,
   "metadata": {},
   "outputs": [
    {
     "name": "stdout",
     "output_type": "stream",
     "text": [
      "Epoch 1/10\n"
     ]
    },
    {
     "name": "stderr",
     "output_type": "stream",
     "text": [
      "2022-10-14 19:14:35.849686: W tensorflow/core/platform/profile_utils/cpu_utils.cc:128] Failed to get CPU frequency: 0 Hz\n",
      "2022-10-14 19:14:36.413494: I tensorflow/core/grappler/optimizers/custom_graph_optimizer_registry.cc:113] Plugin optimizer for device_type GPU is enabled.\n"
     ]
    },
    {
     "name": "stdout",
     "output_type": "stream",
     "text": [
      "3124/3125 [============================>.] - ETA: 0s - loss: 2.9584 - binary_accuracy: 0.9088 - precision: 0.1247"
     ]
    },
    {
     "name": "stderr",
     "output_type": "stream",
     "text": [
      "2022-10-14 19:16:40.728321: I tensorflow/core/grappler/optimizers/custom_graph_optimizer_registry.cc:113] Plugin optimizer for device_type GPU is enabled.\n"
     ]
    },
    {
     "name": "stdout",
     "output_type": "stream",
     "text": [
      "3125/3125 [==============================] - 126s 40ms/step - loss: 2.9581 - binary_accuracy: 0.9088 - precision: 0.1247 - val_loss: 57.0594 - val_binary_accuracy: 0.9089 - val_precision: 0.0940\n",
      "Epoch 2/10\n",
      "3125/3125 [==============================] - 124s 40ms/step - loss: 1.7622 - binary_accuracy: 0.9070 - precision: 0.1188 - val_loss: 55.7138 - val_binary_accuracy: 0.9089 - val_precision: 0.0882\n",
      "Epoch 3/10\n",
      "3125/3125 [==============================] - 125s 40ms/step - loss: 1.7217 - binary_accuracy: 0.9099 - precision: 0.1084 - val_loss: 55.6815 - val_binary_accuracy: 0.9089 - val_precision: 0.0894\n",
      "Epoch 4/10\n",
      "3125/3125 [==============================] - 125s 40ms/step - loss: 1.7817 - binary_accuracy: 0.9052 - precision: 0.1039 - val_loss: 55.6454 - val_binary_accuracy: 0.9089 - val_precision: 0.0948\n",
      "Epoch 5/10\n",
      "3125/3125 [==============================] - 125s 40ms/step - loss: 1.7400 - binary_accuracy: 0.9085 - precision: 0.1126 - val_loss: 55.5996 - val_binary_accuracy: 0.9089 - val_precision: 0.0912\n",
      "Epoch 6/10\n",
      "3125/3125 [==============================] - 125s 40ms/step - loss: 1.7321 - binary_accuracy: 0.9089 - precision: 0.1077 - val_loss: 55.6355 - val_binary_accuracy: 0.9089 - val_precision: 0.0908\n",
      "Epoch 7/10\n",
      "3125/3125 [==============================] - 125s 40ms/step - loss: 1.7155 - binary_accuracy: 0.9102 - precision: 0.1100 - val_loss: 55.5334 - val_binary_accuracy: 0.9089 - val_precision: 0.0924\n",
      "Epoch 8/10\n",
      "3125/3125 [==============================] - 125s 40ms/step - loss: 1.7204 - binary_accuracy: 0.9101 - precision: 0.0954 - val_loss: 55.5114 - val_binary_accuracy: 0.9089 - val_precision: 0.0960\n",
      "Epoch 9/10\n",
      "3125/3125 [==============================] - 125s 40ms/step - loss: 1.7750 - binary_accuracy: 0.9054 - precision: 0.1168 - val_loss: 55.9060 - val_binary_accuracy: 0.9089 - val_precision: 0.0870\n",
      "Epoch 10/10\n",
      "3125/3125 [==============================] - 125s 40ms/step - loss: 1.7651 - binary_accuracy: 0.9069 - precision: 0.1201 - val_loss: 55.4985 - val_binary_accuracy: 0.9089 - val_precision: 0.0916\n"
     ]
    }
   ],
   "source": [
    "fit_data = model.fit(\n",
    "    flat_map_dataset,\n",
    "    epochs=10,\n",
    "    steps_per_epoch=3125,\n",
    "    callbacks=[callback],\n",
    "    validation_data=(input_output_validation_image_data,input_output_validation_label_data),\n",
    "    validation_steps=32,\n",
    ")"
   ]
  },
  {
   "cell_type": "code",
   "execution_count": 7,
   "metadata": {},
   "outputs": [
    {
     "data": {
      "text/plain": [
       "[<matplotlib.lines.Line2D at 0x335c2e880>]"
      ]
     },
     "execution_count": 7,
     "metadata": {},
     "output_type": "execute_result"
    },
    {
     "data": {
      "image/png": "[encoded data removed]",
      "text/plain": [
       "<Figure size 432x288 with 1 Axes>"
      ]
     },
     "metadata": {
      "needs_background": "light"
     },
     "output_type": "display_data"
    }
   ],
   "source": [
    "plt.plot(fit_data.history[\"loss\"])\n",
    "plt.plot(fit_data.history[\"val_loss\"])"
   ]
  },
  {
   "cell_type": "code",
   "execution_count": 8,
   "metadata": {},
   "outputs": [
    {
     "data": {
      "text/plain": [
       "[<matplotlib.lines.Line2D at 0x335d1fdf0>]"
      ]
     },
     "execution_count": 8,
     "metadata": {},
     "output_type": "execute_result"
    },
    {
     "data": {
      "image/png": "[encoded data removed]",
      "text/plain": [
       "<Figure size 432x288 with 1 Axes>"
      ]
     },
     "metadata": {
      "needs_background": "light"
     },
     "output_type": "display_data"
    }
   ],
   "source": [
    "plt.plot(fit_data.history[\"binary_accuracy\"])\n",
    "plt.plot(fit_data.history[\"val_binary_accuracy\"])"
   ]
  },
  {
   "cell_type": "code",
   "execution_count": 9,
   "metadata": {},
   "outputs": [
    {
     "data": {
      "text/plain": [
       "[<matplotlib.lines.Line2D at 0x335d8b850>]"
      ]
     },
     "execution_count": 9,
     "metadata": {},
     "output_type": "execute_result"
    },
    {
     "data": {
      "image/png": "[encoded data removed]",
      "text/plain": [
       "<Figure size 432x288 with 1 Axes>"
      ]
     },
     "metadata": {
      "needs_background": "light"
     },
     "output_type": "display_data"
    }
   ],
   "source": [
    "plt.plot(fit_data.history[\"precision\"])\n",
    "plt.plot(fit_data.history[\"val_precision\"])"
   ]
  },
  {
   "cell_type": "code",
   "execution_count": 10,
   "metadata": {},
   "outputs": [
    {
     "name": "stdout",
     "output_type": "stream",
     "text": [
      "32/32 [==============================] - 1s 19ms/step - loss: 55.4526 - binary_accuracy: 0.9089 - precision: 0.0902\n"
     ]
    },
    {
     "data": {
      "text/plain": [
       "[55.4526252746582, 0.9089091420173645, 0.09020000696182251]"
      ]
     },
     "execution_count": 10,
     "metadata": {},
     "output_type": "execute_result"
    }
   ],
   "source": [
    "model.evaluate(x=test_image_data,y=test_label_data)"
   ]
  },
  {
   "cell_type": "code",
   "execution_count": 11,
   "metadata": {},
   "outputs": [
    {
     "name": "stderr",
     "output_type": "stream",
     "text": [
      "WARNING:absl:Found untraced functions such as _jit_compiled_convolution_op, _jit_compiled_convolution_op, _jit_compiled_convolution_op, _jit_compiled_convolution_op while saving (showing 4 of 4). These functions will not be directly callable after loading.\n"
     ]
    },
    {
     "name": "stdout",
     "output_type": "stream",
     "text": [
      "INFO:tensorflow:Assets written to: trained_model/sixth.tf/assets\n"
     ]
    },
    {
     "name": "stderr",
     "output_type": "stream",
     "text": [
      "INFO:tensorflow:Assets written to: trained_model/sixth.tf/assets\n"
     ]
    }
   ],
   "source": [
    "model.save(join(\"trained_model\",\"sixth.tf\"))"
   ]
  }
 ],
 "metadata": {
  "kernelspec": {
   "display_name": "Python 3.9.13 ('venv': venv)",
   "language": "python",
   "name": "python3"
  },
  "language_info": {
   "codemirror_mode": {
    "name": "ipython",
    "version": 3
   },
   "file_extension": ".py",
   "mimetype": "text/x-python",
   "name": "python",
   "nbconvert_exporter": "python",
   "pygments_lexer": "ipython3",
   "version": "3.9.13"
  },
  "orig_nbformat": 4,
  "vscode": {
   "interpreter": {
    "hash": "9bce7c8f73109d8f66bfe448045de37e5a63b4995198db1c99b5505d297db21f"
   }
  }
 },
 "nbformat": 4,
 "nbformat_minor": 2
}
